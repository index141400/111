{
 "cells": [
  {
   "cell_type": "markdown",
   "metadata": {},
   "source": [
    "<center>\n",
    "    <img src=\"https://cf-courses-data.s3.us.cloud-object-storage.appdomain.cloud/IBMDeveloperSkillsNetwork-DS0105EN-SkillsNetwork/labs/Module2/images/SN_web_lightmode.png\" width=\"300\" alt=\"cognitiveclass.ai logo\">\n",
    "</center>\n"
   ]
  },
  {
   "cell_type": "markdown",
   "metadata": {},
   "source": [
    "#### Add your code below following the instructions given in the course\n"
   ]
  },
  {
   "cell_type": "code",
   "execution_count": null,
   "metadata": {},
   "outputs": [],
   "source": [
    "# Data Science Notebook \n",
    "\n",
    "## Introduction\n",
    "\n",
    "This notebook was created to demonstrate basic knowledge in the field of data science, including programming languages, libraries, and tools used in this field.\n",
    "\n",
    "## Data Science Languages\n",
    "\n",
    "* **Python:** The most popular language used in data science due to its simplicity, extensive libraries, and large community.\n",
    "* **R:** A powerful language specifically designed for statistical analysis and data visualization.\n",
    "* **SQL:**  A query language essential for working with relational databases, where data is often stored.\n",
    "* **Julia:** A high-performance language gaining popularity in data science, especially for tasks requiring high computing power.\n",
    "\n",
    "## Data Science Libraries\n",
    "\n",
    "* **Pandas (Python):** For data processing and analysis. Provides DataFrame and Series data structures.\n",
    "* **NumPy (Python):** For working with arrays and matrices, the foundation for many other libraries.\n",
    "* **Scikit-learn (Python):** For machine learning. Includes algorithms for classification, regression, clustering, and more.\n",
    "* **Matplotlib (Python):** For data visualization. Allows you to create graphs, charts, and other visualizations.\n",
    "* **Seaborn (Python):** A visualization library built on top of Matplotlib, for creating more attractive and informative graphics.\n",
    "* **ggplot2 (R):** A popular library for creating graphs in R.\n",
    "\n",
    "## Data Science Tools\n",
    "\n",
    "| Tool | Description |\n",
    "|---|---|\n",
    "| Jupyter Notebook | Interactive environment for creating and sharing code, visualizations, and text. |\n",
    "| RStudio | Integrated Development Environment (IDE) for the R language. |\n",
    "| VS Code | Popular code editor with support for many languages, including Python and R. |\n",
    "| Google Colab | Cloud-based Jupyter Notebook environment from Google. |\n",
    "| Tableau | Data visualization tool that allows you to create interactive dashboards. |\n",
    "\n",
    "## Arithmetic Expression Examples\n",
    "\n",
    "* Addition: `2 + 3 = 5`\n",
    "* Subtraction: `10 - 5 = 5`\n",
    "* Multiplication: `4 * 2 = 8`\n",
    "* Division: `10 / 2 = 5`"
   ]
  },
  {
   "cell_type": "code",
   "execution_count": null,
   "metadata": {},
   "outputs": [],
   "source": [
    "# Multiplication\n",
    "result_mult = 5 * 7\n",
    "print(f\"Multiplication result: {result_mult}\")\n",
    "\n",
    "# Addition\n",
    "result_sum = 10 + 15\n",
    "print(f\"Addition result: {result_sum}\")"
   ]
  },
  {
   "cell_type": "code",
   "execution_count": null,
   "metadata": {},
   "outputs": [],
   "source": [
    "minutes = 120\n",
    "hours = minutes / 60\n",
    "print(f\"{minutes} minutes equals {hours} hours\")\n"
   ]
  },
  {
   "cell_type": "code",
   "execution_count": null,
   "metadata": {},
   "outputs": [],
   "source": []
  }
 ],
 "metadata": {
  "kernelspec": {
   "display_name": "Python 3 (ipykernel)",
   "language": "python",
   "name": "python3"
  },
  "language_info": {
   "codemirror_mode": {
    "name": "ipython",
    "version": 3
   },
   "file_extension": ".py",
   "mimetype": "text/x-python",
   "name": "python",
   "nbconvert_exporter": "python",
   "pygments_lexer": "ipython3",
   "version": "3.11.9"
  }
 },
 "nbformat": 4,
 "nbformat_minor": 4
}
